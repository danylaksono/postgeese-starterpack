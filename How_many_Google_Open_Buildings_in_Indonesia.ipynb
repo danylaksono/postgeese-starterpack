{
  "nbformat": 4,
  "nbformat_minor": 0,
  "metadata": {
    "colab": {
      "provenance": []
    },
    "kernelspec": {
      "name": "python3",
      "display_name": "Python 3"
    },
    "language_info": {
      "name": "python"
    },
    "widgets": {
      "application/vnd.jupyter.widget-state+json": {
        "756ca9f25a1549f5b84f05675c211ca5": {
          "model_module": "@jupyter-widgets/controls",
          "model_name": "FloatProgressModel",
          "model_module_version": "1.5.0",
          "state": {
            "_dom_classes": [],
            "_model_module": "@jupyter-widgets/controls",
            "_model_module_version": "1.5.0",
            "_model_name": "FloatProgressModel",
            "_view_count": null,
            "_view_module": "@jupyter-widgets/controls",
            "_view_module_version": "1.5.0",
            "_view_name": "ProgressView",
            "bar_style": "",
            "description": "",
            "description_tooltip": null,
            "layout": "IPY_MODEL_067761ab72a549d89b2db51db04fa603",
            "max": 100,
            "min": 0,
            "orientation": "horizontal",
            "style": "IPY_MODEL_8cb1a0c6df794465a254212f41f8a2a1",
            "value": 100
          }
        },
        "067761ab72a549d89b2db51db04fa603": {
          "model_module": "@jupyter-widgets/base",
          "model_name": "LayoutModel",
          "model_module_version": "1.2.0",
          "state": {
            "_model_module": "@jupyter-widgets/base",
            "_model_module_version": "1.2.0",
            "_model_name": "LayoutModel",
            "_view_count": null,
            "_view_module": "@jupyter-widgets/base",
            "_view_module_version": "1.2.0",
            "_view_name": "LayoutView",
            "align_content": null,
            "align_items": null,
            "align_self": null,
            "border": null,
            "bottom": null,
            "display": null,
            "flex": null,
            "flex_flow": null,
            "grid_area": null,
            "grid_auto_columns": null,
            "grid_auto_flow": null,
            "grid_auto_rows": null,
            "grid_column": null,
            "grid_gap": null,
            "grid_row": null,
            "grid_template_areas": null,
            "grid_template_columns": null,
            "grid_template_rows": null,
            "height": null,
            "justify_content": null,
            "justify_items": null,
            "left": null,
            "margin": null,
            "max_height": null,
            "max_width": null,
            "min_height": null,
            "min_width": null,
            "object_fit": null,
            "object_position": null,
            "order": null,
            "overflow": null,
            "overflow_x": null,
            "overflow_y": null,
            "padding": null,
            "right": null,
            "top": null,
            "visibility": null,
            "width": "auto"
          }
        },
        "8cb1a0c6df794465a254212f41f8a2a1": {
          "model_module": "@jupyter-widgets/controls",
          "model_name": "ProgressStyleModel",
          "model_module_version": "1.5.0",
          "state": {
            "_model_module": "@jupyter-widgets/controls",
            "_model_module_version": "1.5.0",
            "_model_name": "ProgressStyleModel",
            "_view_count": null,
            "_view_module": "@jupyter-widgets/base",
            "_view_module_version": "1.2.0",
            "_view_name": "StyleView",
            "bar_color": "black",
            "description_width": ""
          }
        },
        "3636079e4cb14cbebcb13fcb61aa9d38": {
          "model_module": "@jupyter-widgets/controls",
          "model_name": "FloatProgressModel",
          "model_module_version": "1.5.0",
          "state": {
            "_dom_classes": [],
            "_model_module": "@jupyter-widgets/controls",
            "_model_module_version": "1.5.0",
            "_model_name": "FloatProgressModel",
            "_view_count": null,
            "_view_module": "@jupyter-widgets/controls",
            "_view_module_version": "1.5.0",
            "_view_name": "ProgressView",
            "bar_style": "",
            "description": "",
            "description_tooltip": null,
            "layout": "IPY_MODEL_bfbe663fbe02402f813a1fd266ad85d0",
            "max": 100,
            "min": 0,
            "orientation": "horizontal",
            "style": "IPY_MODEL_d8e723df5a34481292883da7d4337782",
            "value": 100
          }
        },
        "bfbe663fbe02402f813a1fd266ad85d0": {
          "model_module": "@jupyter-widgets/base",
          "model_name": "LayoutModel",
          "model_module_version": "1.2.0",
          "state": {
            "_model_module": "@jupyter-widgets/base",
            "_model_module_version": "1.2.0",
            "_model_name": "LayoutModel",
            "_view_count": null,
            "_view_module": "@jupyter-widgets/base",
            "_view_module_version": "1.2.0",
            "_view_name": "LayoutView",
            "align_content": null,
            "align_items": null,
            "align_self": null,
            "border": null,
            "bottom": null,
            "display": null,
            "flex": null,
            "flex_flow": null,
            "grid_area": null,
            "grid_auto_columns": null,
            "grid_auto_flow": null,
            "grid_auto_rows": null,
            "grid_column": null,
            "grid_gap": null,
            "grid_row": null,
            "grid_template_areas": null,
            "grid_template_columns": null,
            "grid_template_rows": null,
            "height": null,
            "justify_content": null,
            "justify_items": null,
            "left": null,
            "margin": null,
            "max_height": null,
            "max_width": null,
            "min_height": null,
            "min_width": null,
            "object_fit": null,
            "object_position": null,
            "order": null,
            "overflow": null,
            "overflow_x": null,
            "overflow_y": null,
            "padding": null,
            "right": null,
            "top": null,
            "visibility": null,
            "width": "auto"
          }
        },
        "d8e723df5a34481292883da7d4337782": {
          "model_module": "@jupyter-widgets/controls",
          "model_name": "ProgressStyleModel",
          "model_module_version": "1.5.0",
          "state": {
            "_model_module": "@jupyter-widgets/controls",
            "_model_module_version": "1.5.0",
            "_model_name": "ProgressStyleModel",
            "_view_count": null,
            "_view_module": "@jupyter-widgets/base",
            "_view_module_version": "1.2.0",
            "_view_name": "StyleView",
            "bar_color": "black",
            "description_width": ""
          }
        }
      }
    }
  },
  "cells": [
    {
      "cell_type": "markdown",
      "source": [
        "# Demo: Berapa banyak bangunan se Indonesia dari sumber open data?\n",
        "\n",
        "Jumlah bangunan se Indonesia dari data Google dan Microsoft Open Buildings.\n",
        "\n",
        "Sumber data: Source.coop"
      ],
      "metadata": {
        "id": "_Jo37dkmSbdp"
      }
    },
    {
      "cell_type": "code",
      "execution_count": 1,
      "metadata": {
        "colab": {
          "base_uri": "https://localhost:8080/"
        },
        "id": "9LJLttFV6_PN",
        "outputId": "27f1e6b4-e52f-4679-bc9f-2abefd482e2c"
      },
      "outputs": [
        {
          "output_type": "stream",
          "name": "stdout",
          "text": [
            "Writing requirements.txt\n"
          ]
        }
      ],
      "source": [
        "%%writefile requirements.txt\n",
        "\n",
        "duckdb\n",
        "geopandas\n",
        "pyarrow"
      ]
    },
    {
      "cell_type": "code",
      "source": [
        "%pip install -r requirements.txt --quiet"
      ],
      "metadata": {
        "id": "HMHZJP6g8aD5"
      },
      "execution_count": 2,
      "outputs": []
    },
    {
      "cell_type": "code",
      "source": [
        "import duckdb"
      ],
      "metadata": {
        "id": "jd3TUCH47GYo"
      },
      "execution_count": 3,
      "outputs": []
    },
    {
      "cell_type": "code",
      "source": [
        "#    \"\"\" Initialize and setup duckdb database\"\"\"\n",
        "con = duckdb.connect(database = \":memory:\")\n",
        "con.install_extension('httpfs')\n",
        "con.load_extension('httpfs')\n",
        "con.install_extension('spatial')\n",
        "con.load_extension('spatial')\n",
        "print(\"Checking DuckDB Installation...\")\n",
        "con.query('select st_point(0,0);')"
      ],
      "metadata": {
        "colab": {
          "base_uri": "https://localhost:8080/"
        },
        "id": "isvgTQJ38GPR",
        "outputId": "8a97c42f-22b6-4db6-9f13-da579ed6315f"
      },
      "execution_count": 4,
      "outputs": [
        {
          "output_type": "stream",
          "name": "stdout",
          "text": [
            "Checking DuckDB Installation...\n"
          ]
        },
        {
          "output_type": "execute_result",
          "data": {
            "text/plain": [
              "┌────────────────┐\n",
              "│ st_point(0, 0) │\n",
              "│    geometry    │\n",
              "├────────────────┤\n",
              "│ POINT (0 0)    │\n",
              "└────────────────┘"
            ]
          },
          "metadata": {},
          "execution_count": 4
        }
      ]
    },
    {
      "cell_type": "code",
      "source": [
        "## Indonesia\n",
        "prefix = \"s3://us-west-2.opendata.source.coop/vida/google-microsoft-open-buildings/geoparquet\"\n",
        "partitions = \"by_country\"\n",
        "country_iso = \"IDN\""
      ],
      "metadata": {
        "id": "0CYkeVSa8jJl"
      },
      "execution_count": 5,
      "outputs": []
    },
    {
      "cell_type": "code",
      "source": [
        "# pakai S2 indexing + parquet_scan dari duckdb\n",
        "con.execute(f\"\"\"\n",
        "    create or replace table idn_buildings as\n",
        "      select * from parquet_scan('{prefix}/by_country_s2/country_iso={country_iso}/*.parquet')\n",
        "\"\"\")"
      ],
      "metadata": {
        "colab": {
          "base_uri": "https://localhost:8080/",
          "height": 67,
          "referenced_widgets": [
            "756ca9f25a1549f5b84f05675c211ca5",
            "067761ab72a549d89b2db51db04fa603",
            "8cb1a0c6df794465a254212f41f8a2a1"
          ]
        },
        "id": "R2_8cXbk-B2T",
        "outputId": "06daceb4-c868-4ed5-c52d-6b99a35444d7"
      },
      "execution_count": 6,
      "outputs": [
        {
          "output_type": "display_data",
          "data": {
            "text/plain": [
              "FloatProgress(value=0.0, layout=Layout(width='auto'), style=ProgressStyle(bar_color='black'))"
            ],
            "application/vnd.jupyter.widget-view+json": {
              "version_major": 2,
              "version_minor": 0,
              "model_id": "756ca9f25a1549f5b84f05675c211ca5"
            }
          },
          "metadata": {}
        },
        {
          "output_type": "execute_result",
          "data": {
            "text/plain": [
              "<duckdb.duckdb.DuckDBPyConnection at 0x79e3bc369170>"
            ]
          },
          "metadata": {},
          "execution_count": 6
        }
      ]
    },
    {
      "cell_type": "code",
      "source": [
        "## ada kolom apa saja?\n",
        "con.query('describe idn_buildings')"
      ],
      "metadata": {
        "colab": {
          "base_uri": "https://localhost:8080/"
        },
        "id": "8GqMSNUAP2dv",
        "outputId": "1aedb8da-60e6-4ee4-8075-386b8730b733"
      },
      "execution_count": 9,
      "outputs": [
        {
          "output_type": "execute_result",
          "data": {
            "text/plain": [
              "┌────────────────┬─────────────┬─────────┬─────────┬─────────┬─────────┐\n",
              "│  column_name   │ column_type │  null   │   key   │ default │  extra  │\n",
              "│    varchar     │   varchar   │ varchar │ varchar │ varchar │ varchar │\n",
              "├────────────────┼─────────────┼─────────┼─────────┼─────────┼─────────┤\n",
              "│ geometry       │ BLOB        │ YES     │ NULL    │ NULL    │ NULL    │\n",
              "│ boundary_id    │ BIGINT      │ YES     │ NULL    │ NULL    │ NULL    │\n",
              "│ bf_source      │ VARCHAR     │ YES     │ NULL    │ NULL    │ NULL    │\n",
              "│ confidence     │ DOUBLE      │ YES     │ NULL    │ NULL    │ NULL    │\n",
              "│ area_in_meters │ DOUBLE      │ YES     │ NULL    │ NULL    │ NULL    │\n",
              "│ s2_id          │ BIGINT      │ YES     │ NULL    │ NULL    │ NULL    │\n",
              "│ country_iso    │ VARCHAR     │ YES     │ NULL    │ NULL    │ NULL    │\n",
              "└────────────────┴─────────────┴─────────┴─────────┴─────────┴─────────┘"
            ]
          },
          "metadata": {},
          "execution_count": 9
        }
      ]
    },
    {
      "cell_type": "code",
      "source": [
        "## Jumlah total bangunan se Indonesa raya\n",
        "con.query('select count(*) from idn_buildings;')"
      ],
      "metadata": {
        "id": "-_lREUxw978L",
        "colab": {
          "base_uri": "https://localhost:8080/"
        },
        "outputId": "b152df45-4131-41bf-a808-209c3016cf7e"
      },
      "execution_count": 7,
      "outputs": [
        {
          "output_type": "execute_result",
          "data": {
            "text/plain": [
              "┌──────────────┐\n",
              "│ count_star() │\n",
              "│    int64     │\n",
              "├──────────────┤\n",
              "│    135174610 │\n",
              "└──────────────┘"
            ]
          },
          "metadata": {},
          "execution_count": 7
        }
      ]
    },
    {
      "cell_type": "code",
      "source": [
        "# jumlah bangunan per sumber data: Google dan Microsoft\n",
        "con.query('SELECT bf_source as data_source, COUNT(*) AS buildings_count FROM idn_buildings GROUP BY data_source;')"
      ],
      "metadata": {
        "colab": {
          "base_uri": "https://localhost:8080/",
          "height": 176,
          "referenced_widgets": [
            "3636079e4cb14cbebcb13fcb61aa9d38",
            "bfbe663fbe02402f813a1fd266ad85d0",
            "d8e723df5a34481292883da7d4337782"
          ]
        },
        "id": "AjIaKbegAktU",
        "outputId": "26182aae-b73d-4699-a795-3eb262c1c961"
      },
      "execution_count": 8,
      "outputs": [
        {
          "output_type": "display_data",
          "data": {
            "text/plain": [
              "FloatProgress(value=0.0, layout=Layout(width='auto'), style=ProgressStyle(bar_color='black'))"
            ],
            "application/vnd.jupyter.widget-view+json": {
              "version_major": 2,
              "version_minor": 0,
              "model_id": "3636079e4cb14cbebcb13fcb61aa9d38"
            }
          },
          "metadata": {}
        },
        {
          "output_type": "execute_result",
          "data": {
            "text/plain": [
              "┌─────────────┬─────────────────┐\n",
              "│ data_source │ buildings_count │\n",
              "│   varchar   │      int64      │\n",
              "├─────────────┼─────────────────┤\n",
              "│ google      │       127723559 │\n",
              "│ microsoft   │         7451051 │\n",
              "└─────────────┴─────────────────┘"
            ]
          },
          "metadata": {},
          "execution_count": 8
        }
      ]
    },
    {
      "cell_type": "code",
      "source": [
        "# google only\n",
        "con.query('''\n",
        "from idn_buildings where bf_source = 'google' limit 10;'''\n",
        ")"
      ],
      "metadata": {
        "colab": {
          "base_uri": "https://localhost:8080/"
        },
        "id": "nBuFQQkXQA-6",
        "outputId": "bef59caa-a9ba-49d4-c7b2-c401ee97d5fa"
      },
      "execution_count": 13,
      "outputs": [
        {
          "output_type": "execute_result",
          "data": {
            "text/plain": [
              "┌──────────────────────────┬─────────────┬───────────┬────────────┬────────────────┬─────────────────────┬─────────────┐\n",
              "│         geometry         │ boundary_id │ bf_source │ confidence │ area_in_meters │        s2_id        │ country_iso │\n",
              "│           blob           │    int64    │  varchar  │   double   │     double     │        int64        │   varchar   │\n",
              "├──────────────────────────┼─────────────┼───────────┼────────────┼────────────────┼─────────────────────┼─────────────┤\n",
              "│ \\x01\\x03\\x00\\x00\\x00\\x…  │         181 │ google    │     0.6875 │        66.4818 │ 3191644760922128384 │ IDN         │\n",
              "│ \\x01\\x03\\x00\\x00\\x00\\x…  │         181 │ google    │     0.6875 │        62.4271 │ 3191644760922128384 │ IDN         │\n",
              "│ \\x01\\x03\\x00\\x00\\x00\\x…  │         181 │ google    │     0.6875 │        55.0361 │ 3191644760922128384 │ IDN         │\n",
              "│ \\x01\\x03\\x00\\x00\\x00\\x…  │         181 │ google    │     0.6875 │        27.7609 │ 3191644760922128384 │ IDN         │\n",
              "│ \\x01\\x03\\x00\\x00\\x00\\x…  │         181 │ google    │     0.6875 │        17.1678 │ 3191644760922128384 │ IDN         │\n",
              "│ \\x01\\x03\\x00\\x00\\x00\\x…  │         181 │ google    │     0.6875 │         7.4844 │ 3191644760922128384 │ IDN         │\n",
              "│ \\x01\\x03\\x00\\x00\\x00\\x…  │         181 │ google    │     0.6875 │        29.7214 │ 3191644760922128384 │ IDN         │\n",
              "│ \\x01\\x03\\x00\\x00\\x00\\x…  │         181 │ google    │     0.6875 │        17.9978 │ 3191644760922128384 │ IDN         │\n",
              "│ \\x01\\x03\\x00\\x00\\x00\\x…  │         181 │ google    │     0.6875 │        42.1542 │ 3191644760922128384 │ IDN         │\n",
              "│ \\x01\\x03\\x00\\x00\\x00\\x…  │         181 │ google    │     0.6875 │        11.2512 │ 3191644760922128384 │ IDN         │\n",
              "├──────────────────────────┴─────────────┴───────────┴────────────┴────────────────┴─────────────────────┴─────────────┤\n",
              "│ 10 rows                                                                                                    7 columns │\n",
              "└──────────────────────────────────────────────────────────────────────────────────────────────────────────────────────┘"
            ]
          },
          "metadata": {},
          "execution_count": 13
        }
      ]
    },
    {
      "cell_type": "code",
      "source": [
        "# export. lemot\n",
        "con.query(\"\"\"\n",
        "  COPY (select * from idn_buildings where bf_source = 'google') TO 'idn_buildings_google.parquet'\n",
        "\"\"\")"
      ],
      "metadata": {
        "id": "0m6-qNFwQHaS"
      },
      "execution_count": null,
      "outputs": []
    }
  ]
}