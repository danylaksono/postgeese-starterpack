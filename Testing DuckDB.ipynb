{
 "cells": [
  {
   "cell_type": "markdown",
   "id": "3a92148d-9458-4a5a-b0a2-918e46add009",
   "metadata": {
    "tags": []
   },
   "source": [
    "# Basic DuckDB 🦆 for Spatial Analysis Setup\n",
    "\n",
    "~ Dany Laksono "
   ]
  },
  {
   "cell_type": "markdown",
   "id": "4a0b7cbd-7ae0-404f-a01e-ac1b53a6193d",
   "metadata": {},
   "source": [
    "The following is a basic steps for setting up duckdb and it's spatial extension, [PostGEESE](https://duckdb.org/2023/04/28/spatial.html). This notebook can be used as starting point for building poor man's data lake (or to be precise, data 'pond') for geospatial data science analytics using DuckDB's latest [Spatial Extension](https://github.com/duckdblabs/duckdb_spatial). \n",
    "\n",
    "Credit to:\n",
    "- [Mark Litwintschik](https://tech.marksblogg.com/duckdb-geospatial-gis.html), one of the very first articles discussing about the wonderful of DuckDB to the geospatial community\n",
    "- [Mark Forrest](https://www.youtube.com/watch?v=ljzpm3Mrw-I) for the inspiration.\n",
    "- [Wei-Meng Lee](https://towardsdatascience.com/running-sql-queries-in-jupyter-notebook-using-jupysql-duckdb-and-mysql-3c53fbe40f8d) for the examples on JupySQL"
   ]
  },
  {
   "cell_type": "markdown",
   "id": "72c2c2c5-57c6-49ad-afc4-933bb37971ba",
   "metadata": {},
   "source": [
    "## Preparation and Installation"
   ]
  },
  {
   "cell_type": "code",
   "execution_count": 1,
   "id": "79ba4154-91fa-4c10-b69f-ff798f60346d",
   "metadata": {},
   "outputs": [
    {
     "name": "stdout",
     "output_type": "stream",
     "text": [
      "Overwriting requirements.txt\n"
     ]
    }
   ],
   "source": [
    "%%writefile requirements.txt\n",
    "\n",
    "duckdb\n",
    "jupysql\n",
    "duckdb-engine"
   ]
  },
  {
   "cell_type": "code",
   "execution_count": 2,
   "id": "60b7fe47-70ef-413b-b880-e1db79f1acb2",
   "metadata": {},
   "outputs": [],
   "source": [
    "!pip install -r requirements.txt --quiet"
   ]
  },
  {
   "cell_type": "code",
   "execution_count": 3,
   "id": "c6250ca8-1dac-4d7e-8f50-ce2a47c4c8ad",
   "metadata": {},
   "outputs": [],
   "source": [
    "import duckdb\n",
    "import pandas as pd"
   ]
  },
  {
   "cell_type": "markdown",
   "id": "d9e0faa4-05cc-4db7-89c2-419dae008c79",
   "metadata": {},
   "source": [
    "Setting up the JupySQL extension"
   ]
  },
  {
   "cell_type": "code",
   "execution_count": 4,
   "id": "6b8547f0-728b-40cc-b349-ba5d36324746",
   "metadata": {},
   "outputs": [
    {
     "name": "stderr",
     "output_type": "stream",
     "text": [
      "/home/danylaksono/miniconda3/lib/python3.9/site-packages/requests/__init__.py:102: RequestsDependencyWarning: urllib3 (1.26.8) or chardet (5.1.0)/charset_normalizer (2.0.4) doesn't match a supported version!\n",
      "  warnings.warn(\"urllib3 ({}) or chardet ({})/charset_normalizer ({}) doesn't match a supported \"\n"
     ]
    }
   ],
   "source": [
    "%load_ext sql\n",
    "\n",
    "%config SqlMagic.autopandas = True\n",
    "%config SqlMagic.feedback = False\n",
    "%config SqlMagic.displaycon = False"
   ]
  },
  {
   "cell_type": "markdown",
   "id": "26eb6536-8c90-4f1d-9f1b-227f30494578",
   "metadata": {},
   "source": [
    "The extension allows us to use `%sql` syntax in a jupyter lab cell for a single line SQL command, and `%%sql` syntax for multiline SQL command, as you'll see in the following cells"
   ]
  },
  {
   "cell_type": "markdown",
   "id": "b9b8f6d2-7172-4c3e-b51c-444a86238737",
   "metadata": {},
   "source": [
    "## Setup DuckDB and Install Spatial Extension"
   ]
  },
  {
   "cell_type": "markdown",
   "id": "fa15892a-60f1-4336-aba1-c320bc884c2e",
   "metadata": {},
   "source": [
    "Initialize a DuckDB database in-memory "
   ]
  },
  {
   "cell_type": "code",
   "execution_count": 5,
   "id": "5bd6eb0e-ca3b-4c12-9ad5-b3d964b13cdc",
   "metadata": {},
   "outputs": [],
   "source": [
    "%sql duckdb:///:memory:"
   ]
  },
  {
   "cell_type": "markdown",
   "id": "3afe8409-d1f6-4ccc-8af9-0b35befbb386",
   "metadata": {},
   "source": [
    "Install the [spatial extension](https://duckdb.org/docs/extensions/spatial)."
   ]
  },
  {
   "cell_type": "code",
   "execution_count": 6,
   "id": "4fd7a11d-84d7-41cc-aa9a-d7c6270dd46e",
   "metadata": {},
   "outputs": [
    {
     "data": {
      "text/html": [
       "<div>\n",
       "<style scoped>\n",
       "    .dataframe tbody tr th:only-of-type {\n",
       "        vertical-align: middle;\n",
       "    }\n",
       "\n",
       "    .dataframe tbody tr th {\n",
       "        vertical-align: top;\n",
       "    }\n",
       "\n",
       "    .dataframe thead th {\n",
       "        text-align: right;\n",
       "    }\n",
       "</style>\n",
       "<table border=\"1\" class=\"dataframe\">\n",
       "  <thead>\n",
       "    <tr style=\"text-align: right;\">\n",
       "      <th></th>\n",
       "    </tr>\n",
       "  </thead>\n",
       "  <tbody>\n",
       "  </tbody>\n",
       "</table>\n",
       "</div>"
      ],
      "text/plain": [
       "Empty DataFrame\n",
       "Columns: []\n",
       "Index: []"
      ]
     },
     "execution_count": 6,
     "metadata": {},
     "output_type": "execute_result"
    }
   ],
   "source": [
    "%%sql \n",
    "INSTALL spatial;\n",
    "LOAD spatial;"
   ]
  },
  {
   "cell_type": "markdown",
   "id": "56bd3e11-a59e-4b57-9e21-0f3449a93e55",
   "metadata": {},
   "source": [
    "DuckDB's [HTTPFS Extension](https://duckdb.org/docs/extensions/httpfs.html) allows us to load data into DuckDB _remotely_. Imagine the performance gained by taking advantage of S3's partial load for parquet data, while at the same time loading the data and processing them in DuckDB.\n",
    "\n",
    "[This article](https://dagster.io/blog/duckdb-data-lake) by Dagster actually explores the possibility of building a working Data 'Pond' using DuckDB and  "
   ]
  },
  {
   "cell_type": "code",
   "execution_count": 7,
   "id": "e918dba2-6bce-41e2-b8c4-b70a8cd8a101",
   "metadata": {},
   "outputs": [
    {
     "data": {
      "text/html": [
       "<div>\n",
       "<style scoped>\n",
       "    .dataframe tbody tr th:only-of-type {\n",
       "        vertical-align: middle;\n",
       "    }\n",
       "\n",
       "    .dataframe tbody tr th {\n",
       "        vertical-align: top;\n",
       "    }\n",
       "\n",
       "    .dataframe thead th {\n",
       "        text-align: right;\n",
       "    }\n",
       "</style>\n",
       "<table border=\"1\" class=\"dataframe\">\n",
       "  <thead>\n",
       "    <tr style=\"text-align: right;\">\n",
       "      <th></th>\n",
       "    </tr>\n",
       "  </thead>\n",
       "  <tbody>\n",
       "  </tbody>\n",
       "</table>\n",
       "</div>"
      ],
      "text/plain": [
       "Empty DataFrame\n",
       "Columns: []\n",
       "Index: []"
      ]
     },
     "execution_count": 7,
     "metadata": {},
     "output_type": "execute_result"
    }
   ],
   "source": [
    "%%sql\n",
    "INSTALL httpfs;\n",
    "LOAD httpfs;"
   ]
  },
  {
   "cell_type": "markdown",
   "id": "cda1b215-db35-4d96-9a7f-d391f6498a84",
   "metadata": {},
   "source": [
    "Test a simple spatial operation"
   ]
  },
  {
   "cell_type": "code",
   "execution_count": 8,
   "id": "ca81030a-7d7d-4eee-93ca-e48a7fda7f37",
   "metadata": {},
   "outputs": [
    {
     "data": {
      "text/html": [
       "<div>\n",
       "<style scoped>\n",
       "    .dataframe tbody tr th:only-of-type {\n",
       "        vertical-align: middle;\n",
       "    }\n",
       "\n",
       "    .dataframe tbody tr th {\n",
       "        vertical-align: top;\n",
       "    }\n",
       "\n",
       "    .dataframe thead th {\n",
       "        text-align: right;\n",
       "    }\n",
       "</style>\n",
       "<table border=\"1\" class=\"dataframe\">\n",
       "  <thead>\n",
       "    <tr style=\"text-align: right;\">\n",
       "      <th></th>\n",
       "      <th>st_point(0, 0)</th>\n",
       "    </tr>\n",
       "  </thead>\n",
       "  <tbody>\n",
       "    <tr>\n",
       "      <th>0</th>\n",
       "      <td>b'\\x00\\x00\\x18\\x00\\x00\\x00\\x00\\x00\\x00\\x00\\x00...</td>\n",
       "    </tr>\n",
       "  </tbody>\n",
       "</table>\n",
       "</div>"
      ],
      "text/plain": [
       "                                      st_point(0, 0)\n",
       "0  b'\\x00\\x00\\x18\\x00\\x00\\x00\\x00\\x00\\x00\\x00\\x00..."
      ]
     },
     "execution_count": 8,
     "metadata": {},
     "output_type": "execute_result"
    }
   ],
   "source": [
    "%%sql \n",
    "select st_point(0,0);"
   ]
  },
  {
   "cell_type": "markdown",
   "id": "85434735-3ec2-4b55-8f9a-31c23f4e9d24",
   "metadata": {},
   "source": [
    "if there's anything wrong then congrats, it works!"
   ]
  },
  {
   "cell_type": "markdown",
   "id": "b6f0fb5d-32ec-44d3-b0d5-f9d9399c2771",
   "metadata": {},
   "source": [
    "## A Simple Use Case"
   ]
  },
  {
   "cell_type": "markdown",
   "id": "9ad8fc2c-eb02-4b8b-8eee-b5356a8d334a",
   "metadata": {},
   "source": [
    "In the following cells, we'll try and have some experiments on DuckDB. We'll read a GeoJSON data of London Trees (obtained from [here](https://data.london.gov.uk/dataset/local-authority-maintained-trees) and converted to GeoJSON for the demo). Just for a the sake of simplicity, we'll try to calculate the distance between each trees. There should be about"
   ]
  },
  {
   "cell_type": "code",
   "execution_count": 9,
   "id": "afe0d221-cb10-460b-8334-8ba472dc0584",
   "metadata": {},
   "outputs": [
    {
     "data": {
      "application/vnd.jupyter.widget-view+json": {
       "model_id": "faae024e79d24c42b6b486a60679f980",
       "version_major": 2,
       "version_minor": 0
      },
      "text/plain": [
       "FloatProgress(value=0.0, layout=Layout(width='100%'), style=ProgressStyle(bar_color='black'))"
      ]
     },
     "metadata": {},
     "output_type": "display_data"
    },
    {
     "data": {
      "text/html": [
       "<div>\n",
       "<style scoped>\n",
       "    .dataframe tbody tr th:only-of-type {\n",
       "        vertical-align: middle;\n",
       "    }\n",
       "\n",
       "    .dataframe tbody tr th {\n",
       "        vertical-align: top;\n",
       "    }\n",
       "\n",
       "    .dataframe thead th {\n",
       "        text-align: right;\n",
       "    }\n",
       "</style>\n",
       "<table border=\"1\" class=\"dataframe\">\n",
       "  <thead>\n",
       "    <tr style=\"text-align: right;\">\n",
       "      <th></th>\n",
       "      <th>Count</th>\n",
       "    </tr>\n",
       "  </thead>\n",
       "  <tbody>\n",
       "    <tr>\n",
       "      <th>0</th>\n",
       "      <td>817150</td>\n",
       "    </tr>\n",
       "  </tbody>\n",
       "</table>\n",
       "</div>"
      ],
      "text/plain": [
       "    Count\n",
       "0  817150"
      ]
     },
     "execution_count": 9,
     "metadata": {},
     "output_type": "execute_result"
    }
   ],
   "source": [
    "%%sql\n",
    "create or replace table trees as\n",
    "select *, ST_GeomFromWKB(wkb_geometry) as geom\n",
    "from st_read('./london_trees.geojson')"
   ]
  },
  {
   "cell_type": "markdown",
   "id": "87360767-0c05-4e2b-a5d6-780a4fbf62af",
   "metadata": {},
   "source": [
    "Show the dataset. Pay attention that SQL queries in DuckDB can be [simplified](https://duckdb.org/2022/05/04/friendlier-sql.html), so in the example below, we're omitting the 'SELECT *' and just go with 'FROM ... LIMIT' and so forth."
   ]
  },
  {
   "cell_type": "code",
   "execution_count": 18,
   "id": "0fd9ed2c-7575-457e-b352-ebf38fbb46b4",
   "metadata": {},
   "outputs": [
    {
     "name": "stdout",
     "output_type": "stream",
     "text": [
      "(duckdb.CatalogException) Catalog Error: Table with name trees does not exist!\n",
      "Did you mean \"temp.information_schema.tables\"?\n",
      "LINE 1: from trees limit 10;\n",
      "             ^\n",
      "[SQL: from trees limit 10;]\n",
      "(Background on this error at: https://sqlalche.me/e/20/f405)\n"
     ]
    }
   ],
   "source": [
    "%%sql\n",
    "from trees limit 10;"
   ]
  },
  {
   "cell_type": "markdown",
   "id": "879dffe6-110a-473d-9b2b-f726378cf7a6",
   "metadata": {},
   "source": [
    "Here we're stepping up the game a little bit further. We can use DuckDB's [Native Geometry System](https://github.com/duckdblabs/duckdb_spatial#multi-tiered-geometry-type-system), which provides another performance gain for geospatial analysis"
   ]
  },
  {
   "cell_type": "code",
   "execution_count": 10,
   "id": "5645c816-add2-4cd7-a3aa-34db14290b57",
   "metadata": {},
   "outputs": [
    {
     "data": {
      "text/html": [
       "<div>\n",
       "<style scoped>\n",
       "    .dataframe tbody tr th:only-of-type {\n",
       "        vertical-align: middle;\n",
       "    }\n",
       "\n",
       "    .dataframe tbody tr th {\n",
       "        vertical-align: top;\n",
       "    }\n",
       "\n",
       "    .dataframe thead th {\n",
       "        text-align: right;\n",
       "    }\n",
       "</style>\n",
       "<table border=\"1\" class=\"dataframe\">\n",
       "  <thead>\n",
       "    <tr style=\"text-align: right;\">\n",
       "      <th></th>\n",
       "    </tr>\n",
       "  </thead>\n",
       "  <tbody>\n",
       "  </tbody>\n",
       "</table>\n",
       "</div>"
      ],
      "text/plain": [
       "Empty DataFrame\n",
       "Columns: []\n",
       "Index: []"
      ]
     },
     "execution_count": 10,
     "metadata": {},
     "output_type": "execute_result"
    }
   ],
   "source": [
    "%%sql\n",
    "alter table trees add column pointidx point_2d;"
   ]
  },
  {
   "cell_type": "code",
   "execution_count": 11,
   "id": "c51875f2-8dc6-4408-82f9-5d2383aa66da",
   "metadata": {},
   "outputs": [
    {
     "data": {
      "text/html": [
       "<div>\n",
       "<style scoped>\n",
       "    .dataframe tbody tr th:only-of-type {\n",
       "        vertical-align: middle;\n",
       "    }\n",
       "\n",
       "    .dataframe tbody tr th {\n",
       "        vertical-align: top;\n",
       "    }\n",
       "\n",
       "    .dataframe thead th {\n",
       "        text-align: right;\n",
       "    }\n",
       "</style>\n",
       "<table border=\"1\" class=\"dataframe\">\n",
       "  <thead>\n",
       "    <tr style=\"text-align: right;\">\n",
       "      <th></th>\n",
       "      <th>Count</th>\n",
       "    </tr>\n",
       "  </thead>\n",
       "  <tbody>\n",
       "    <tr>\n",
       "      <th>0</th>\n",
       "      <td>817150</td>\n",
       "    </tr>\n",
       "  </tbody>\n",
       "</table>\n",
       "</div>"
      ],
      "text/plain": [
       "    Count\n",
       "0  817150"
      ]
     },
     "execution_count": 11,
     "metadata": {},
     "output_type": "execute_result"
    }
   ],
   "source": [
    "%%sql\n",
    "update trees set pointidx = geom::point_2d;"
   ]
  },
  {
   "cell_type": "markdown",
   "id": "19ba9b49-8b51-4533-ae72-db57286142d4",
   "metadata": {},
   "source": [
    "Now we calculate the distance. Notice the EXCLUDE? yeah that's DuckDB's [special SQL](https://duckdb.org/2022/05/04/friendlier-sql.html#select--exclude) syntax!\n",
    "\n",
    "In this case, we'll use the GEOM column, which follows the Simple Features geometry model. This geom can be used for interoperability, since it will have the same structure with other standardised geometry (such as Geopandas or PostGIS).\n",
    "\n",
    "Notice that this operation is quite fast: after all, we're calculating ~800k distances!"
   ]
  },
  {
   "cell_type": "code",
   "execution_count": 14,
   "id": "10f21557-b81d-42ef-ae0c-3f1bc2299b27",
   "metadata": {},
   "outputs": [
    {
     "name": "stdout",
     "output_type": "stream",
     "text": [
      "CPU times: user 5.36 s, sys: 432 ms, total: 5.8 s\n",
      "Wall time: 6.23 s\n"
     ]
    },
    {
     "data": {
      "text/html": [
       "<div>\n",
       "<style scoped>\n",
       "    .dataframe tbody tr th:only-of-type {\n",
       "        vertical-align: middle;\n",
       "    }\n",
       "\n",
       "    .dataframe tbody tr th {\n",
       "        vertical-align: top;\n",
       "    }\n",
       "\n",
       "    .dataframe thead th {\n",
       "        text-align: right;\n",
       "    }\n",
       "</style>\n",
       "<table border=\"1\" class=\"dataframe\">\n",
       "  <thead>\n",
       "    <tr style=\"text-align: right;\">\n",
       "      <th></th>\n",
       "      <th>fid</th>\n",
       "      <th>taxon_name</th>\n",
       "      <th>common_nam</th>\n",
       "      <th>age_group</th>\n",
       "      <th>height_m</th>\n",
       "      <th>canopy_spr</th>\n",
       "      <th>diameter_a</th>\n",
       "      <th>dbh_group</th>\n",
       "      <th>longitude</th>\n",
       "      <th>latitude</th>\n",
       "      <th>condition</th>\n",
       "      <th>load_date</th>\n",
       "      <th>updated</th>\n",
       "      <th>geom</th>\n",
       "      <th>pointidx</th>\n",
       "      <th>distance</th>\n",
       "    </tr>\n",
       "  </thead>\n",
       "  <tbody>\n",
       "    <tr>\n",
       "      <th>0</th>\n",
       "      <td>1</td>\n",
       "      <td>Abies grandis</td>\n",
       "      <td>Grand fir</td>\n",
       "      <td>Early mature (16-30)</td>\n",
       "      <td>10 to 15m</td>\n",
       "      <td>00 to 05m</td>\n",
       "      <td>NaN</td>\n",
       "      <td>21 to 40cm</td>\n",
       "      <td>-0.291147</td>\n",
       "      <td>51.361893</td>\n",
       "      <td>Reasonable</td>\n",
       "      <td>20210318</td>\n",
       "      <td>20210715</td>\n",
       "      <td>b\"\\x00\\x00\\x18\\x00\\x00\\x00\\x00\\x00\\x00\\x00\\x00...</td>\n",
       "      <td>{'x': -0.29114702, 'y': 51.36189321}</td>\n",
       "      <td>73.190613</td>\n",
       "    </tr>\n",
       "    <tr>\n",
       "      <th>1</th>\n",
       "      <td>2</td>\n",
       "      <td>Abies grandis</td>\n",
       "      <td>Grand fir</td>\n",
       "      <td>Early mature (16-30)</td>\n",
       "      <td>10 to 15m</td>\n",
       "      <td>00 to 05m</td>\n",
       "      <td>NaN</td>\n",
       "      <td>21 to 40cm</td>\n",
       "      <td>-0.291122</td>\n",
       "      <td>51.361914</td>\n",
       "      <td>Reasonable</td>\n",
       "      <td>20210318</td>\n",
       "      <td>20210715</td>\n",
       "      <td>b'\\x00\\x00\\x18\\x00\\x00\\x00\\x00\\x00\\x00\\x00\\x00...</td>\n",
       "      <td>{'x': -0.29112242, 'y': 51.36191363}</td>\n",
       "      <td>73.190610</td>\n",
       "    </tr>\n",
       "    <tr>\n",
       "      <th>2</th>\n",
       "      <td>3</td>\n",
       "      <td>Abies grandis</td>\n",
       "      <td>Grand fir</td>\n",
       "      <td>Early mature (16-30)</td>\n",
       "      <td>05 to 10m</td>\n",
       "      <td>05 to 10m</td>\n",
       "      <td>NaN</td>\n",
       "      <td>21 to 40cm</td>\n",
       "      <td>-0.290943</td>\n",
       "      <td>51.387016</td>\n",
       "      <td>Reasonable</td>\n",
       "      <td>20210318</td>\n",
       "      <td>20210715</td>\n",
       "      <td>b'\\x00\\x00\\x18\\x00\\x00\\x00\\x00\\x00\\x00\\x00\\x00...</td>\n",
       "      <td>{'x': -0.29094338, 'y': 51.38701648}</td>\n",
       "      <td>73.208170</td>\n",
       "    </tr>\n",
       "    <tr>\n",
       "      <th>3</th>\n",
       "      <td>4</td>\n",
       "      <td>Abies grandis</td>\n",
       "      <td>Grand fir</td>\n",
       "      <td>Mature (31-80)</td>\n",
       "      <td>10 to 15m</td>\n",
       "      <td>05 to 10m</td>\n",
       "      <td>NaN</td>\n",
       "      <td>41 to 70cm</td>\n",
       "      <td>-0.288572</td>\n",
       "      <td>51.387405</td>\n",
       "      <td>Reasonable</td>\n",
       "      <td>20210318</td>\n",
       "      <td>20210715</td>\n",
       "      <td>b'\\x00\\x00\\x18\\x00\\x00\\x00\\x00\\x00\\x00\\x00\\x00...</td>\n",
       "      <td>{'x': -0.28857187, 'y': 51.38740453}</td>\n",
       "      <td>73.206761</td>\n",
       "    </tr>\n",
       "    <tr>\n",
       "      <th>4</th>\n",
       "      <td>5</td>\n",
       "      <td>Abies grandis</td>\n",
       "      <td>Grand fir</td>\n",
       "      <td>Mature (31-80)</td>\n",
       "      <td>10 to 15m</td>\n",
       "      <td>05 to 10m</td>\n",
       "      <td>NaN</td>\n",
       "      <td>41 to 70cm</td>\n",
       "      <td>-0.285025</td>\n",
       "      <td>51.388872</td>\n",
       "      <td>Reasonable</td>\n",
       "      <td>20210318</td>\n",
       "      <td>20210715</td>\n",
       "      <td>b'\\x00\\x00\\x18\\x00\\x00\\x00\\x00\\x00\\x00\\x00\\x00...</td>\n",
       "      <td>{'x': -0.28502456, 'y': 51.38887244}</td>\n",
       "      <td>73.205278</td>\n",
       "    </tr>\n",
       "    <tr>\n",
       "      <th>...</th>\n",
       "      <td>...</td>\n",
       "      <td>...</td>\n",
       "      <td>...</td>\n",
       "      <td>...</td>\n",
       "      <td>...</td>\n",
       "      <td>...</td>\n",
       "      <td>...</td>\n",
       "      <td>...</td>\n",
       "      <td>...</td>\n",
       "      <td>...</td>\n",
       "      <td>...</td>\n",
       "      <td>...</td>\n",
       "      <td>...</td>\n",
       "      <td>...</td>\n",
       "      <td>...</td>\n",
       "      <td>...</td>\n",
       "    </tr>\n",
       "    <tr>\n",
       "      <th>817145</th>\n",
       "      <td>817146</td>\n",
       "      <td>Prunus avium</td>\n",
       "      <td>Cherry</td>\n",
       "      <td>None</td>\n",
       "      <td>None</td>\n",
       "      <td>None</td>\n",
       "      <td>NaN</td>\n",
       "      <td>None</td>\n",
       "      <td>0.013561</td>\n",
       "      <td>51.514825</td>\n",
       "      <td>None</td>\n",
       "      <td>20180214</td>\n",
       "      <td>20210715</td>\n",
       "      <td>b'\\x00\\x00\\x18\\x00\\x00\\x00\\x00\\x00\\x00\\x00\\x00...</td>\n",
       "      <td>{'x': 0.01356119, 'y': 51.51482525}</td>\n",
       "      <td>73.082810</td>\n",
       "    </tr>\n",
       "    <tr>\n",
       "      <th>817146</th>\n",
       "      <td>817147</td>\n",
       "      <td>Carpinus betulus fastigiata</td>\n",
       "      <td>Hornbeam</td>\n",
       "      <td>None</td>\n",
       "      <td>None</td>\n",
       "      <td>None</td>\n",
       "      <td>NaN</td>\n",
       "      <td>None</td>\n",
       "      <td>0.039496</td>\n",
       "      <td>51.538224</td>\n",
       "      <td>None</td>\n",
       "      <td>20180214</td>\n",
       "      <td>20210715</td>\n",
       "      <td>b'\\x00\\x00\\x18\\x00\\x00\\x00\\x00\\x00\\x00\\x00\\x00...</td>\n",
       "      <td>{'x': 0.03949611, 'y': 51.53822397}</td>\n",
       "      <td>73.081050</td>\n",
       "    </tr>\n",
       "    <tr>\n",
       "      <th>817147</th>\n",
       "      <td>817148</td>\n",
       "      <td>Acer pseudoplatanus</td>\n",
       "      <td>Sycamore</td>\n",
       "      <td>None</td>\n",
       "      <td>None</td>\n",
       "      <td>None</td>\n",
       "      <td>NaN</td>\n",
       "      <td>None</td>\n",
       "      <td>0.053449</td>\n",
       "      <td>51.510719</td>\n",
       "      <td>None</td>\n",
       "      <td>20180214</td>\n",
       "      <td>20210715</td>\n",
       "      <td>b'\\x00\\x00\\x18\\x00\\x00\\x00\\x00\\x00\\x00\\x00\\x00...</td>\n",
       "      <td>{'x': 0.05344862, 'y': 51.51071912}</td>\n",
       "      <td>73.051724</td>\n",
       "    </tr>\n",
       "    <tr>\n",
       "      <th>817148</th>\n",
       "      <td>817149</td>\n",
       "      <td>Robinia pseudoacacia</td>\n",
       "      <td>False acacia</td>\n",
       "      <td>None</td>\n",
       "      <td>None</td>\n",
       "      <td>None</td>\n",
       "      <td>NaN</td>\n",
       "      <td>None</td>\n",
       "      <td>0.053493</td>\n",
       "      <td>51.510352</td>\n",
       "      <td>None</td>\n",
       "      <td>20180214</td>\n",
       "      <td>20210715</td>\n",
       "      <td>b'\\x00\\x00\\x18\\x00\\x00\\x00\\x00\\x00\\x00\\x00\\x00...</td>\n",
       "      <td>{'x': 0.05349266, 'y': 51.51035235000001}</td>\n",
       "      <td>73.051434</td>\n",
       "    </tr>\n",
       "    <tr>\n",
       "      <th>817149</th>\n",
       "      <td>817150</td>\n",
       "      <td>Robinia pseudoacacia</td>\n",
       "      <td>False acacia</td>\n",
       "      <td>None</td>\n",
       "      <td>None</td>\n",
       "      <td>None</td>\n",
       "      <td>NaN</td>\n",
       "      <td>None</td>\n",
       "      <td>0.053497</td>\n",
       "      <td>51.510350</td>\n",
       "      <td>None</td>\n",
       "      <td>20180214</td>\n",
       "      <td>20210715</td>\n",
       "      <td>b'\\x00\\x00\\x18\\x00\\x00\\x00\\x00\\x00\\x00\\x00\\x00...</td>\n",
       "      <td>{'x': 0.05349685, 'y': 51.51034957}</td>\n",
       "      <td>73.051429</td>\n",
       "    </tr>\n",
       "  </tbody>\n",
       "</table>\n",
       "<p>817150 rows × 16 columns</p>\n",
       "</div>"
      ],
      "text/plain": [
       "           fid                   taxon_name    common_nam  \\\n",
       "0            1                Abies grandis     Grand fir   \n",
       "1            2                Abies grandis     Grand fir   \n",
       "2            3                Abies grandis     Grand fir   \n",
       "3            4                Abies grandis     Grand fir   \n",
       "4            5                Abies grandis     Grand fir   \n",
       "...        ...                          ...           ...   \n",
       "817145  817146                 Prunus avium        Cherry   \n",
       "817146  817147  Carpinus betulus fastigiata      Hornbeam   \n",
       "817147  817148          Acer pseudoplatanus      Sycamore   \n",
       "817148  817149         Robinia pseudoacacia  False acacia   \n",
       "817149  817150         Robinia pseudoacacia  False acacia   \n",
       "\n",
       "                   age_group   height_m canopy_spr  diameter_a   dbh_group  \\\n",
       "0       Early mature (16-30)  10 to 15m  00 to 05m         NaN  21 to 40cm   \n",
       "1       Early mature (16-30)  10 to 15m  00 to 05m         NaN  21 to 40cm   \n",
       "2       Early mature (16-30)  05 to 10m  05 to 10m         NaN  21 to 40cm   \n",
       "3             Mature (31-80)  10 to 15m  05 to 10m         NaN  41 to 70cm   \n",
       "4             Mature (31-80)  10 to 15m  05 to 10m         NaN  41 to 70cm   \n",
       "...                      ...        ...        ...         ...         ...   \n",
       "817145                  None       None       None         NaN        None   \n",
       "817146                  None       None       None         NaN        None   \n",
       "817147                  None       None       None         NaN        None   \n",
       "817148                  None       None       None         NaN        None   \n",
       "817149                  None       None       None         NaN        None   \n",
       "\n",
       "        longitude   latitude   condition  load_date   updated  \\\n",
       "0       -0.291147  51.361893  Reasonable   20210318  20210715   \n",
       "1       -0.291122  51.361914  Reasonable   20210318  20210715   \n",
       "2       -0.290943  51.387016  Reasonable   20210318  20210715   \n",
       "3       -0.288572  51.387405  Reasonable   20210318  20210715   \n",
       "4       -0.285025  51.388872  Reasonable   20210318  20210715   \n",
       "...           ...        ...         ...        ...       ...   \n",
       "817145   0.013561  51.514825        None   20180214  20210715   \n",
       "817146   0.039496  51.538224        None   20180214  20210715   \n",
       "817147   0.053449  51.510719        None   20180214  20210715   \n",
       "817148   0.053493  51.510352        None   20180214  20210715   \n",
       "817149   0.053497  51.510350        None   20180214  20210715   \n",
       "\n",
       "                                                     geom  \\\n",
       "0       b\"\\x00\\x00\\x18\\x00\\x00\\x00\\x00\\x00\\x00\\x00\\x00...   \n",
       "1       b'\\x00\\x00\\x18\\x00\\x00\\x00\\x00\\x00\\x00\\x00\\x00...   \n",
       "2       b'\\x00\\x00\\x18\\x00\\x00\\x00\\x00\\x00\\x00\\x00\\x00...   \n",
       "3       b'\\x00\\x00\\x18\\x00\\x00\\x00\\x00\\x00\\x00\\x00\\x00...   \n",
       "4       b'\\x00\\x00\\x18\\x00\\x00\\x00\\x00\\x00\\x00\\x00\\x00...   \n",
       "...                                                   ...   \n",
       "817145  b'\\x00\\x00\\x18\\x00\\x00\\x00\\x00\\x00\\x00\\x00\\x00...   \n",
       "817146  b'\\x00\\x00\\x18\\x00\\x00\\x00\\x00\\x00\\x00\\x00\\x00...   \n",
       "817147  b'\\x00\\x00\\x18\\x00\\x00\\x00\\x00\\x00\\x00\\x00\\x00...   \n",
       "817148  b'\\x00\\x00\\x18\\x00\\x00\\x00\\x00\\x00\\x00\\x00\\x00...   \n",
       "817149  b'\\x00\\x00\\x18\\x00\\x00\\x00\\x00\\x00\\x00\\x00\\x00...   \n",
       "\n",
       "                                         pointidx   distance  \n",
       "0            {'x': -0.29114702, 'y': 51.36189321}  73.190613  \n",
       "1            {'x': -0.29112242, 'y': 51.36191363}  73.190610  \n",
       "2            {'x': -0.29094338, 'y': 51.38701648}  73.208170  \n",
       "3            {'x': -0.28857187, 'y': 51.38740453}  73.206761  \n",
       "4            {'x': -0.28502456, 'y': 51.38887244}  73.205278  \n",
       "...                                           ...        ...  \n",
       "817145        {'x': 0.01356119, 'y': 51.51482525}  73.082810  \n",
       "817146        {'x': 0.03949611, 'y': 51.53822397}  73.081050  \n",
       "817147        {'x': 0.05344862, 'y': 51.51071912}  73.051724  \n",
       "817148  {'x': 0.05349266, 'y': 51.51035235000001}  73.051434  \n",
       "817149        {'x': 0.05349685, 'y': 51.51034957}  73.051429  \n",
       "\n",
       "[817150 rows x 16 columns]"
      ]
     },
     "execution_count": 14,
     "metadata": {},
     "output_type": "execute_result"
    }
   ],
   "source": [
    "%%time\n",
    "%%sql\n",
    "select * exclude (objectid, gla_tree_n, tree_name, age, spread_m, wkb_geometry), \n",
    "st_distance(geom, st_point(51.65345594544537, -0.19995380867530435)) as distance \n",
    "from trees"
   ]
  },
  {
   "cell_type": "markdown",
   "id": "bc2da682-5a85-492d-bc9d-aafd843a9829",
   "metadata": {},
   "source": [
    "Now let's try to calculate them again, but this time we'll use DuckDB's Native Geometry, which we've built before."
   ]
  },
  {
   "cell_type": "code",
   "execution_count": 15,
   "id": "ca8cc17c-f7b7-45ad-8c51-66a8bf31304f",
   "metadata": {},
   "outputs": [
    {
     "name": "stdout",
     "output_type": "stream",
     "text": [
      "CPU times: user 1.05 s, sys: 39.4 ms, total: 1.09 s\n",
      "Wall time: 1.33 s\n"
     ]
    },
    {
     "data": {
      "text/html": [
       "<div>\n",
       "<style scoped>\n",
       "    .dataframe tbody tr th:only-of-type {\n",
       "        vertical-align: middle;\n",
       "    }\n",
       "\n",
       "    .dataframe tbody tr th {\n",
       "        vertical-align: top;\n",
       "    }\n",
       "\n",
       "    .dataframe thead th {\n",
       "        text-align: right;\n",
       "    }\n",
       "</style>\n",
       "<table border=\"1\" class=\"dataframe\">\n",
       "  <thead>\n",
       "    <tr style=\"text-align: right;\">\n",
       "      <th></th>\n",
       "      <th>common_nam</th>\n",
       "      <th>distance</th>\n",
       "    </tr>\n",
       "  </thead>\n",
       "  <tbody>\n",
       "    <tr>\n",
       "      <th>0</th>\n",
       "      <td>Grand fir</td>\n",
       "      <td>73.190613</td>\n",
       "    </tr>\n",
       "    <tr>\n",
       "      <th>1</th>\n",
       "      <td>Grand fir</td>\n",
       "      <td>73.190610</td>\n",
       "    </tr>\n",
       "    <tr>\n",
       "      <th>2</th>\n",
       "      <td>Grand fir</td>\n",
       "      <td>73.208170</td>\n",
       "    </tr>\n",
       "    <tr>\n",
       "      <th>3</th>\n",
       "      <td>Grand fir</td>\n",
       "      <td>73.206761</td>\n",
       "    </tr>\n",
       "    <tr>\n",
       "      <th>4</th>\n",
       "      <td>Grand fir</td>\n",
       "      <td>73.205278</td>\n",
       "    </tr>\n",
       "    <tr>\n",
       "      <th>...</th>\n",
       "      <td>...</td>\n",
       "      <td>...</td>\n",
       "    </tr>\n",
       "    <tr>\n",
       "      <th>817145</th>\n",
       "      <td>Cherry</td>\n",
       "      <td>73.082810</td>\n",
       "    </tr>\n",
       "    <tr>\n",
       "      <th>817146</th>\n",
       "      <td>Hornbeam</td>\n",
       "      <td>73.081050</td>\n",
       "    </tr>\n",
       "    <tr>\n",
       "      <th>817147</th>\n",
       "      <td>Sycamore</td>\n",
       "      <td>73.051724</td>\n",
       "    </tr>\n",
       "    <tr>\n",
       "      <th>817148</th>\n",
       "      <td>False acacia</td>\n",
       "      <td>73.051434</td>\n",
       "    </tr>\n",
       "    <tr>\n",
       "      <th>817149</th>\n",
       "      <td>False acacia</td>\n",
       "      <td>73.051429</td>\n",
       "    </tr>\n",
       "  </tbody>\n",
       "</table>\n",
       "<p>817150 rows × 2 columns</p>\n",
       "</div>"
      ],
      "text/plain": [
       "          common_nam   distance\n",
       "0          Grand fir  73.190613\n",
       "1          Grand fir  73.190610\n",
       "2          Grand fir  73.208170\n",
       "3          Grand fir  73.206761\n",
       "4          Grand fir  73.205278\n",
       "...              ...        ...\n",
       "817145        Cherry  73.082810\n",
       "817146      Hornbeam  73.081050\n",
       "817147      Sycamore  73.051724\n",
       "817148  False acacia  73.051434\n",
       "817149  False acacia  73.051429\n",
       "\n",
       "[817150 rows x 2 columns]"
      ]
     },
     "execution_count": 15,
     "metadata": {},
     "output_type": "execute_result"
    }
   ],
   "source": [
    "%%time\n",
    "%%sql\n",
    "select common_nam, st_distance(pointidx, st_point(51.65345594544537, -0.19995380867530435)::point_2d) as distance from trees"
   ]
  },
  {
   "cell_type": "markdown",
   "id": "2299d1cc-e3fe-47e7-b21a-90fb2485e8d1",
   "metadata": {},
   "source": [
    "And that's ever faster!\n",
    "\n",
    "So I rest my case: Q.E.D."
   ]
  },
  {
   "cell_type": "markdown",
   "id": "38c3f2c8-5914-4758-82a3-0999d854afd8",
   "metadata": {},
   "source": [
    "## What's next?"
   ]
  },
  {
   "cell_type": "markdown",
   "id": "f45adbf8-f65b-4f2e-b2d6-3e4806e89444",
   "metadata": {},
   "source": [
    "At the moment, the spatial analysis functions in DuckDB is still in it's infancy, but we can expect them to grow overtime. Even now, we can explore some of the functionalities, such as reading data directly from [PostgreSQL](https://duckdb.org/docs/extensions/postgres_scanner). There are also some useful extensions, such as [Isaac Brodsky's H3](https://github.com/isaacbrodsky/h3-duckdb) which could really be a game changer for processing large geospatial dataset. Have fun!"
   ]
  }
 ],
 "metadata": {
  "kernelspec": {
   "display_name": "Python 3",
   "language": "python",
   "name": "python3"
  },
  "language_info": {
   "codemirror_mode": {
    "name": "ipython",
    "version": 3
   },
   "file_extension": ".py",
   "mimetype": "text/x-python",
   "name": "python",
   "nbconvert_exporter": "python",
   "pygments_lexer": "ipython3",
   "version": "3.9.13"
  }
 },
 "nbformat": 4,
 "nbformat_minor": 5
}
